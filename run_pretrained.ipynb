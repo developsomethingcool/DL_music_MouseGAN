{
 "cells": [
  {
   "cell_type": "markdown",
   "metadata": {},
   "source": [
    "## Demonstration of MuseGAN based Symbolic Music Generation                                                                                                 \n",
    "\n",
    "🎵 Run Pretrained Model\n",
    "\n",
    "This notebook will take you from zero to audio in _two_ lines of code:\n",
    "1. Load the MuseGAN pretrained weights.  \n",
    "2. Synthesize a short music snippet.\n",
    "\n",
    "MuseGAN is a GAN-based music generator trained on (describe your dataset).  \n",
    "\n",
    "---\n",
    "\n",
    "# 🔧 Prerequisites\n",
    "\n",
    "- **Python 3.8+**  \n",
    "- **PyTorch 1.11+** (with CUDA 11.3 if you have an NVIDIA GPU)  \n",
    "- **ffmpeg** (for audio file encoding)"
   ]
  },
  {
   "cell_type": "markdown",
   "metadata": {},
   "source": [
    "Inspired by: https://github.com/salu133445/musegan/tree/main"
   ]
  },
  {
   "cell_type": "code",
   "execution_count": 74,
   "metadata": {},
   "outputs": [],
   "source": [
    "import os\n",
    "import numpy as np\n",
    "import torch\n",
    "import torch.nn as nn\n",
    "import matplotlib.pyplot as plt\n",
    "import pretty_midi\n",
    "from pathlib import Path\n",
    "from typing import Optional, Dict, Any, Tuple\n",
    "\n",
    "# Disable CUDA warnings\n",
    "os.environ['TORCH_CPP_LOG_LEVEL'] = 'WARN'\n",
    "\n",
    "def set_seed(seed: int):\n",
    "    torch.manual_seed(seed)\n",
    "    np.random.seed(seed)\n",
    "\n",
    "\n",
    "# Define hyperparameters (must match your trained model)\n",
    "latent_dim = 128\n",
    "n_tracks = 5\n",
    "n_measures = 4\n",
    "measure_resolution = 16\n",
    "n_pitches = 72\n",
    "lowest_pitch = 24\n",
    "\n",
    "# Add these two lines here:\n",
    "programs = [0, 0, 25, 33, 48]\n",
    "is_drums  = [True, False, False, False, False]"
   ]
  },
  {
   "cell_type": "markdown",
   "metadata": {},
   "source": [
    "MuseGAN Generator"
   ]
  },
  {
   "cell_type": "code",
   "execution_count": 75,
   "metadata": {},
   "outputs": [],
   "source": [
    "class GeneraterBlock(nn.Module):\n",
    "    \"\"\"Generator block with transposed convolution, batch norm, and ReLU.\"\"\"\n",
    "    def __init__(self, in_channels, out_channels, kernel_size, stride, padding=0):\n",
    "        super().__init__()\n",
    "        self.transconv = nn.ConvTranspose3d(\n",
    "            in_channels, out_channels, kernel_size, stride, padding, bias=True\n",
    "        )\n",
    "        self.batchnorm = nn.BatchNorm3d(out_channels)\n",
    "        self.relu = nn.ReLU(inplace=True)\n",
    "    \n",
    "    def forward(self, x):\n",
    "        return self.relu(self.batchnorm(self.transconv(x)))"
   ]
  },
  {
   "cell_type": "code",
   "execution_count": 76,
   "metadata": {},
   "outputs": [],
   "source": [
    "class Generator(torch.nn.Module):\n",
    "    \"\"\"A convolutional neural network (CNN) based generator. The generator takes\n",
    "    as input a latent vector and outputs a fake sample.\"\"\"\n",
    "    def __init__(self):\n",
    "        super().__init__()\n",
    "        self.transconv0 = GeneraterBlock(latent_dim, 256, (4, 1, 1), (4, 1, 1))\n",
    "        self.transconv1 = GeneraterBlock(256, 128, (1, 4, 1), (1, 4, 1))\n",
    "        self.transconv2 = GeneraterBlock(128, 64, (1, 1, 4), (1, 1, 4))\n",
    "        self.transconv3 = GeneraterBlock(64, 32, (1, 1, 3), (1, 1, 1))\n",
    "        self.transconv4 = torch.nn.ModuleList([\n",
    "            GeneraterBlock(32, 16, (1, 4, 1), (1, 4, 1))\n",
    "            for _ in range(n_tracks)\n",
    "        ])\n",
    "        self.transconv5 = torch.nn.ModuleList([\n",
    "            GeneraterBlock(16, 1, (1, 1, 12), (1, 1, 12))\n",
    "            for _ in range(n_tracks)\n",
    "        ])\n",
    "\n",
    "    def forward(self, x):\n",
    "        x = x.view(-1, latent_dim, 1, 1, 1)\n",
    "        x = self.transconv0(x)\n",
    "        x = self.transconv1(x)\n",
    "        x = self.transconv2(x)\n",
    "        x = self.transconv3(x)\n",
    "        x = [transconv(x) for transconv in self.transconv4]\n",
    "        x = torch.cat([transconv(x_) for x_, transconv in zip(x, self.transconv5)], 1)\n",
    "        x = x.view(-1, n_tracks, n_measures * measure_resolution, n_pitches)\n",
    "        return x"
   ]
  },
  {
   "cell_type": "code",
   "execution_count": 77,
   "metadata": {},
   "outputs": [],
   "source": [
    "class MuseGANGeneratorTorch:\n",
    "    def __init__(self, model_path: str, device: Optional[str] = None, verbose: bool = True):\n",
    "        self.model_path = model_path\n",
    "        self.verbose = verbose\n",
    "\n",
    "        # MuseGAN hyperparameters\n",
    "        self.n_tracks = n_tracks\n",
    "        self.n_bars = n_measures\n",
    "        self.n_steps_per_bar = measure_resolution\n",
    "        self.n_pitches = n_pitches\n",
    "        self.lowest_pitch = lowest_pitch\n",
    "        self.track_names = ['Drums', 'Piano', 'Guitar', 'Bass', 'Strings']\n",
    "\n",
    "        # PyTorch device, for the case when CUDA is available\n",
    "        self.device = device or ('cuda' if torch.cuda.is_available() else 'cpu')\n",
    "        self.model: Optional[torch.nn.Module] = None\n",
    "\n",
    "        if self.verbose:\n",
    "            print(f\"MuseGANGeneratorTorch initialized on {self.device}\")\n",
    "\n",
    "    def load_model(self) -> bool:\n",
    "        if not os.path.isfile(self.model_path):\n",
    "            if self.verbose:\n",
    "                print(f\"Model file not found: {self.model_path}\")\n",
    "            return False\n",
    "        try:\n",
    "            # Create the Generator instance\n",
    "            self.model = Generator()\n",
    "            \n",
    "            # Load the state dictionary\n",
    "            state_dict = torch.load(self.model_path, map_location=self.device)\n",
    "            \n",
    "            # Handle different state_dict formats\n",
    "            if 'state_dict' in state_dict:\n",
    "                # If the checkpoint contains additional info\n",
    "                self.model.load_state_dict(state_dict['state_dict'])\n",
    "            elif 'model_state_dict' in state_dict:\n",
    "                # Another common format\n",
    "                self.model.load_state_dict(state_dict['model_state_dict'])\n",
    "            else:\n",
    "                # Assume the file is just the state_dict\n",
    "                self.model.load_state_dict(state_dict)\n",
    "            \n",
    "            self.model.to(self.device)\n",
    "            self.model.eval()\n",
    "            \n",
    "            if self.verbose:\n",
    "                print(f\"Loaded PyTorch weights from {self.model_path}\")\n",
    "            return True\n",
    "        except Exception as e:\n",
    "            if self.verbose:\n",
    "                print(f\"Failed to load model: {e}\")\n",
    "            return False\n",
    "\n",
    "    def generate_music(self, n_samples: int = 4, temperature: float = 1.0) -> np.ndarray:\n",
    "        if self.model is None:\n",
    "            raise RuntimeError(\"Model is not loaded. Please call load_model first.\")\n",
    "\n",
    "        noise = torch.randn(n_samples, latent_dim, device=self.device) * temperature\n",
    "        \n",
    "        with torch.no_grad():\n",
    "            logits = self.model(noise)\n",
    "        \n",
    "        logits = logits.cpu().numpy()\n",
    "\n",
    "        if self.verbose:\n",
    "            print(f\"Generated music logits: {logits.shape}\")\n",
    "        return logits\n",
    "\n",
    "    def postprocess_music(self, logits: np.ndarray, threshold: float = 0.0) -> np.ndarray:\n",
    "        piano_roll = (logits > threshold).astype(np.float32)\n",
    "        piano_roll[..., :self.lowest_pitch] = 0\n",
    "        return piano_roll\n",
    "\n",
    "    def music_to_pianoroll(self, music: np.ndarray, track_idx: int = 1) -> np.ndarray:\n",
    "        \"\"\"Convert music tensor to piano roll for a specific track.\"\"\"\n",
    "        # takes the first sample if we have a batch\n",
    "        if music.ndim == 4:\n",
    "            # music shape: (n_samples, n_tracks, n_steps, n_pitches)\n",
    "            sample_music = music[0]\n",
    "        elif music.ndim == 3:\n",
    "            # music shape: (n_tracks, n_steps, n_pitches)\n",
    "            sample_music = music\n",
    "        else:\n",
    "            raise ValueError(f\"Unexpected music shape: {music.shape}\")\n",
    "\n",
    "        # extract the 2D (n_steps, n_pitches) roll for the given track\n",
    "        track_roll = sample_music[track_idx] \n",
    "        return track_roll\n",
    "\n",
    "    def plot_pianoroll(self, music: np.ndarray, sample_idx: int = 0, track_idx: int = 1):\n",
    "        \"\"\"Plot a single track’s piano roll for one sample.\"\"\"\n",
    "        #  takes the first sample if we have a batch\n",
    "        if music.ndim == 4:\n",
    "            # music shape: (n_samples, n_tracks, n_steps, n_pitches)\n",
    "            sample_music = music[sample_idx]\n",
    "        elif music.ndim == 3:\n",
    "            # music shape: (n_tracks, n_steps, n_pitches)\n",
    "            sample_music = music\n",
    "        else:\n",
    "            raise ValueError(f\"Unexpected music shape: {music.shape}\")\n",
    "\n",
    "        # resampled sample_music\n",
    "        track_roll = sample_music[track_idx]  \n",
    "\n",
    "        # plotting\n",
    "        plt.figure(figsize=(12, 4))\n",
    "        plt.imshow(track_roll.T, aspect='auto', origin='lower', cmap='Blues')\n",
    "        plt.title(f\"{self.track_names[track_idx]} Track - Sample {sample_idx}\")\n",
    "        plt.xlabel('Time step')\n",
    "        plt.ylabel('Pitch')\n",
    "        plt.colorbar(label='Velocity')\n",
    "        plt.show()\n",
    "        \n",
    "\n",
    "    def plot_track_comparison(self, music: np.ndarray, sample_idx: int = 0):\n",
    "        \"\"\"Plot all tracks side by side for one sample.\"\"\"\n",
    "        # takes the first sample if we have a batch\n",
    "        if music.ndim == 4:\n",
    "            # (n_samples, n_tracks, n_steps, n_pitches)\n",
    "            sample_music = music[sample_idx]\n",
    "        elif music.ndim == 3:\n",
    "            # (n_tracks, n_steps, n_pitches)\n",
    "            sample_music = music\n",
    "        else:\n",
    "            raise ValueError(f\"Unexpected music shape: {music.shape}\")\n",
    "\n",
    "        # 2) resampled sample_music\n",
    "        fig, axes = plt.subplots(1, self.n_tracks, figsize=(20, 4))\n",
    "        \n",
    "        for track_idx in range(self.n_tracks):\n",
    "            # extract the 2D array for this track\n",
    "            track_roll = sample_music[track_idx]  \n",
    "            \n",
    "            # transpose to (n_pitches, n_steps)\n",
    "            im = axes[track_idx].imshow(\n",
    "                track_roll.T, \n",
    "                aspect='auto', \n",
    "                origin='lower', \n",
    "                cmap='Blues', \n",
    "                interpolation='nearest'\n",
    "            )\n",
    "            axes[track_idx].set_title(self.track_names[track_idx])\n",
    "            axes[track_idx].set_xlabel('Time Steps')\n",
    "            if track_idx == 0:\n",
    "                axes[track_idx].set_ylabel('MIDI Pitch')\n",
    "        \n",
    "        plt.tight_layout()\n",
    "        plt.show()\n",
    "\n",
    "    def analyze_music_statistics(self, music: np.ndarray) -> Dict[str, Dict[str, Any]]:\n",
    "        \"\"\"Analyze statistics for each track.\"\"\"\n",
    "        # if we got a batch, grab the first sample\n",
    "        if music.ndim == 4:\n",
    "            # music shape: (n_samples, n_tracks, n_steps, n_pitches)\n",
    "            sample_music = music[0]\n",
    "        elif music.ndim == 3:\n",
    "            # music shape: (n_tracks, n_steps, n_pitches)\n",
    "            sample_music = music\n",
    "        else:\n",
    "            raise ValueError(f\"Unexpected music shape: {music.shape}\")\n",
    "\n",
    "        stats = {}\n",
    "        for track_idx, track_name in enumerate(self.track_names):\n",
    "            track_data = sample_music[track_idx]  # shape (n_steps, n_pitches)\n",
    "\n",
    "            active_notes = int((track_data > 0).sum())\n",
    "            total_notes = track_data.size\n",
    "            density = (active_notes / total_notes) * 100\n",
    "\n",
    "            active_pitches = np.where(track_data.sum(axis=0) > 0)[0]\n",
    "            if active_pitches.size > 0:\n",
    "                pitch_range = (active_pitches[0] + self.lowest_pitch,\n",
    "                            active_pitches[-1] + self.lowest_pitch)\n",
    "                unique_pitches = int(active_pitches.size)\n",
    "            else:\n",
    "                pitch_range = (0, 0)\n",
    "                unique_pitches = 0\n",
    "\n",
    "            stats[track_name] = {\n",
    "                'active_notes': active_notes,\n",
    "                'density': density,\n",
    "                'pitch_range': pitch_range,\n",
    "                'unique_pitches': unique_pitches\n",
    "            }\n",
    "\n",
    "        return stats\n",
    "    \n",
    "\n",
    "    def save_as_numpy(self, music: np.ndarray, filename: str):\n",
    "        \"\"\"Save music as numpy array.\"\"\"\n",
    "        np.save(filename, music)\n",
    "        if self.verbose:\n",
    "            print(f\"Numpy array saved: {filename}\")\n",
    "\n",
    "    def save_as_midi(self, music: np.ndarray, filename: str = \"generated.mid\", tempo: int = 120):\n",
    "        midi = pretty_midi.PrettyMIDI(initial_tempo=tempo)\n",
    "        step_time = 60 / tempo / (self.n_steps_per_bar / 4)\n",
    "\n",
    "        # choose the first sample if you have multiple\n",
    "        sample_music = music[0] if music.ndim == 4 else music\n",
    "\n",
    "        for track_idx in range(self.n_tracks):\n",
    "            instr = pretty_midi.Instrument(\n",
    "                program = programs[track_idx],\n",
    "                is_drum = is_drums[track_idx],\n",
    "                name    = self.track_names[track_idx]\n",
    "            )\n",
    "            track_roll = sample_music[track_idx, :, :]\n",
    "            for step, pitches in enumerate(track_roll):\n",
    "                for pitch, vel in enumerate(pitches):\n",
    "                    if vel > 0:\n",
    "                        start = step * step_time\n",
    "                        end   = start + step_time\n",
    "                        instr.notes.append(\n",
    "                            pretty_midi.Note(\n",
    "                                velocity=int(vel * 127),\n",
    "                                pitch   = pitch + self.lowest_pitch,\n",
    "                                start   = start,\n",
    "                                end     = end\n",
    "                            )\n",
    "                        )\n",
    "            midi.instruments.append(instr)\n",
    "\n",
    "        midi.write(filename)\n",
    "        if self.verbose:\n",
    "            print(f\"MIDI saved: {filename}\")"
   ]
  },
  {
   "cell_type": "markdown",
   "metadata": {},
   "source": [
    "## ⚙️ Configuration\n",
    "Edit the block below to point at your data:\n",
    "\n",
    "Loading the model, please use a pretrained model provided with the file. The model was trained on a small subset of Lakh Pianoroll Dataset\n",
    "\n",
    "## 🚀 Load the Model"
   ]
  },
  {
   "cell_type": "code",
   "execution_count": 78,
   "metadata": {},
   "outputs": [
    {
     "name": "stdout",
     "output_type": "stream",
     "text": [
      "Initializing MuseGAN Generator...\n",
      "MuseGANGeneratorTorch initialized on cpu\n",
      "Loaded PyTorch weights from generator_final2.pth\n",
      "Model loaded successfully!\n"
     ]
    }
   ],
   "source": [
    "# Configuration\n",
    "# Choose the model path and output directory\n",
    "MODEL_PATH = \"generator_final2.pth\"  \n",
    "OUTPUT_DIR = \"generated_music\"\n",
    "N_SAMPLES = 1\n",
    "\n",
    "# Create output directory\n",
    "os.makedirs(OUTPUT_DIR, exist_ok=True)\n",
    "\n",
    "# Set seed for reproducibility\n",
    "set_seed(42)\n",
    "\n",
    "# Initialize generator\n",
    "print(\"Initializing MuseGAN Generator...\")\n",
    "generator = MuseGANGeneratorTorch(MODEL_PATH, verbose=True)\n",
    "\n",
    "# Load model\n",
    "model_loaded = generator.load_model()\n",
    "if not model_loaded:\n",
    "    print(\"Model loading failed, aborting.\")\n",
    "    exit(1)\n",
    "\n",
    "print(\"Model loaded successfully!\")"
   ]
  },
  {
   "cell_type": "markdown",
   "metadata": {},
   "source": [
    "Generating the music"
   ]
  },
  {
   "cell_type": "code",
   "execution_count": 79,
   "metadata": {},
   "outputs": [
    {
     "name": "stdout",
     "output_type": "stream",
     "text": [
      "Generating 1 music samples...\n",
      "Generated music logits: (1, 5, 64, 72)\n",
      "Analyzing generated music...\n"
     ]
    }
   ],
   "source": [
    "# Generate music\n",
    "print(f\"Generating {N_SAMPLES} music samples...\")\n",
    "logits = generator.generate_music(n_samples=N_SAMPLES, temperature=1.0)\n",
    "processed_music = generator.postprocess_music(logits, threshold=0.04)\n",
    "\n",
    "print(\"Analyzing generated music...\")\n",
    "\n",
    "# Get statistics\n",
    "stats = generator.analyze_music_statistics(processed_music)"
   ]
  },
  {
   "cell_type": "code",
   "execution_count": 80,
   "metadata": {},
   "outputs": [
    {
     "name": "stdout",
     "output_type": "stream",
     "text": [
      "\n",
      "============================================================\n",
      "GENERATED MUSIC STATISTICS\n",
      "============================================================\n",
      "\n",
      " DRUMS:\n",
      "   Active Notes: 72\n",
      "   Density: 1.6%\n",
      "   Pitch Range: 48 - 84\n",
      "   Unique Pitches: 4\n",
      "\n",
      " PIANO:\n",
      "   Active Notes: 327\n",
      "   Density: 7.1%\n",
      "   Pitch Range: 49 - 87\n",
      "   Unique Pitches: 20\n",
      "\n",
      " GUITAR:\n",
      "   Active Notes: 335\n",
      "   Density: 7.3%\n",
      "   Pitch Range: 49 - 94\n",
      "   Unique Pitches: 24\n",
      "\n",
      " BASS:\n",
      "   Active Notes: 9\n",
      "   Density: 0.2%\n",
      "   Pitch Range: 65 - 76\n",
      "   Unique Pitches: 2\n",
      "\n",
      " STRINGS:\n",
      "   Active Notes: 471\n",
      "   Density: 10.2%\n",
      "   Pitch Range: 55 - 93\n",
      "   Unique Pitches: 19\n",
      "\n",
      "Creating visualizations...\n"
     ]
    }
   ],
   "source": [
    "# Display statistics in a nice format\n",
    "print(\"\\n\" + \"=\"*60)\n",
    "print(\"GENERATED MUSIC STATISTICS\")\n",
    "print(\"=\"*60)\n",
    "\n",
    "for track_name, track_stats in stats.items():\n",
    "    print(f\"\\n {track_name.upper()}:\")\n",
    "    print(f\"   Active Notes: {track_stats['active_notes']:,}\")\n",
    "    print(f\"   Density: {track_stats['density']:.1f}%\")\n",
    "    print(f\"   Pitch Range: {track_stats['pitch_range'][0]} - {track_stats['pitch_range'][1]}\")\n",
    "    print(f\"   Unique Pitches: {track_stats['unique_pitches']}\")\n",
    "\n",
    "print(\"\\nCreating visualizations...\")"
   ]
  },
  {
   "cell_type": "code",
   "execution_count": 81,
   "metadata": {},
   "outputs": [
    {
     "name": "stdout",
     "output_type": "stream",
     "text": [
      "\n",
      " Piano Roll Visualization (Piano Track):\n"
     ]
    },
    {
     "data": {
      "image/png": "[encoded data removed]",
      "text/plain": [
       "<Figure size 1200x400 with 2 Axes>"
      ]
     },
     "metadata": {},
     "output_type": "display_data"
    },
    {
     "name": "stdout",
     "output_type": "stream",
     "text": [
      " All Tracks Comparison:\n"
     ]
    },
    {
     "data": {
      "image/png": "[encoded data removed]",
      "text/plain": [
       "<Figure size 2000x400 with 5 Axes>"
      ]
     },
     "metadata": {},
     "output_type": "display_data"
    },
    {
     "name": "stdout",
     "output_type": "stream",
     "text": [
      " Saving generated music...\n"
     ]
    }
   ],
   "source": [
    "# Plot individual track (Piano by default)\n",
    "print(\"\\n Piano Roll Visualization (Piano Track):\")\n",
    "generator.plot_pianoroll(processed_music, sample_idx=0, track_idx=1)\n",
    "\n",
    "print(\" All Tracks Comparison:\")\n",
    "generator.plot_track_comparison(processed_music, sample_idx=0)\n",
    "\n",
    "print(\" Saving generated music...\")"
   ]
  },
  {
   "cell_type": "code",
   "execution_count": 82,
   "metadata": {},
   "outputs": [
    {
     "name": "stdout",
     "output_type": "stream",
     "text": [
      "Numpy array saved: generated_music\\generated_music_sample_0.npy\n",
      "MIDI saved: generated_music\\generated_music_sample_0.mid\n",
      "\n",
      " All files saved to: generated_music\n"
     ]
    }
   ],
   "source": [
    "# Save each sample\n",
    "for i in range(N_SAMPLES):\n",
    "    if len(processed_music.shape) == 4:\n",
    "        sample_music = processed_music\n",
    "    else:\n",
    "        sample_music = processed_music[i:i+1]\n",
    "    \n",
    "    # Save as numpy\n",
    "    numpy_path = os.path.join(OUTPUT_DIR, f'generated_music_sample_{i}.npy')\n",
    "    generator.save_as_numpy(sample_music, numpy_path)\n",
    "    \n",
    "    # Save as MIDI\n",
    "    midi_path = os.path.join(OUTPUT_DIR, f'generated_music_sample_{i}.mid')\n",
    "    generator.save_as_midi(sample_music, midi_path)\n",
    "\n",
    "print(f\"\\n All files saved to: {OUTPUT_DIR}\")\n",
    "\n",
    "def generate_and_visualize(n_samples=2, temperature=1.0, threshold=0.5, track_to_plot=1):\n",
    "    \"\"\"Interactive function to generate and visualize music with custom parameters.\"\"\"\n",
    "    print(f\" Generating {n_samples} samples with temperature={temperature}, threshold={threshold}\")\n",
    "    \n",
    "    # Generate music\n",
    "    music = generator.generate_music(n_samples=n_samples, temperature=temperature)\n",
    "    processed = generator.postprocess_music(music, threshold=threshold)\n",
    "    \n",
    "    # Visualize\n",
    "    generator.plot_pianoroll(processed, sample_idx=0, track_idx=track_to_plot)\n",
    "    \n",
    "    # Show stats\n",
    "    stats = generator.analyze_music_statistics(processed)\n",
    "    track_name = generator.track_names[track_to_plot]\n",
    "    track_stats = stats[track_name]\n",
    "    \n",
    "    print(f\"\\n {track_name} Statistics:\")\n",
    "    print(f\"   Density: {track_stats['density']:.1f}%\")\n",
    "    print(f\"   Active Notes: {track_stats['active_notes']:,}\")\n",
    "    print(f\"   Pitch Range: {track_stats['pitch_range'][0]} - {track_stats['pitch_range'][1]}\")\n",
    "    \n",
    "    return processed"
   ]
  },
  {
   "cell_type": "markdown",
   "metadata": {},
   "source": [
    "## ⚙️ Parameter Guide\n",
    "\n",
    "- **`n_samples`**  \n",
    "  How many independent music clips to generate in one call.  \n",
    "  - **Increase** → more clips (longer runtime and more outputs)  \n",
    "  - **Decrease** → fewer clips (faster iteration)\n",
    "\n",
    "- **`temperature`**  \n",
    "  Controls randomness in sampling from the model’s latent space.  \n",
    "  - **Lower (e.g. 0.5)** → conservative, predictable patterns  \n",
    "  - **Higher (e.g. 2.0)** → diverse, creative (but possibly noisy) outputs\n",
    "\n",
    "- **`threshold`**  \n",
    "  Amplitude cutoff for post-processing/denoising.  \n",
    "  - **Lower (e.g. 0.3)** → preserves subtle details (can include noise)  \n",
    "  - **Higher (e.g. 0.8)** → cleaner audio (may remove quiet nuances)\n",
    "\n",
    "- **`track_to_plot`**  \n",
    "  Selects which instrument’s output to visualize inline.  \n",
    "  - `0` = Drums  \n",
    "  - `1` = Piano  \n",
    "  - `2` = Guitar  \n",
    "  - `3` = Bass  \n",
    "  - `4` = Strings  \n",
    "  - **Changing** this lets you inspect different timbral or rhythmic components of the generated music."
   ]
  },
  {
   "cell_type": "code",
   "execution_count": 83,
   "metadata": {},
   "outputs": [
    {
     "name": "stdout",
     "output_type": "stream",
     "text": [
      "\n",
      " Interactive Generation Example:\n",
      " Generating 2 samples with temperature=1.2, threshold=0.8\n",
      "Generated music logits: (2, 5, 64, 72)\n"
     ]
    },
    {
     "data": {
      "image/png": "[encoded data removed]",
      "text/plain": [
       "<Figure size 1200x400 with 2 Axes>"
      ]
     },
     "metadata": {},
     "output_type": "display_data"
    },
    {
     "name": "stdout",
     "output_type": "stream",
     "text": [
      "\n",
      " Strings Statistics:\n",
      "   Density: 3.5%\n",
      "   Active Notes: 162\n",
      "   Pitch Range: 64 - 93\n",
      "\n",
      " Batch Generation with Different Parameters:\n"
     ]
    }
   ],
   "source": [
    "# Example usage - modify these parameters to experiment\n",
    "print(\"\\n Interactive Generation Example:\")\n",
    "interactive_music = generate_and_visualize(\n",
    "    n_samples=2,\n",
    "    # you can try different values: 0.5, 1.0, 1.5, 2.0 \n",
    "    temperature=1.2,  \n",
    "    # you can try different values: 0.5, 1.0, 1.5, 2.0\n",
    "    threshold=0.8,    # Try different values: 0.3, 0.5, 0.7\n",
    "    # try different instruments 0=Drums, 1=Piano, 2=Guitar, 3=Bass, 4=Strings\n",
    "    track_to_plot=4   \n",
    ")\n",
    "\n",
    "print(\"\\n Batch Generation with Different Parameters:\")"
   ]
  },
  {
   "cell_type": "markdown",
   "metadata": {},
   "source": [
    "## Batch Generation with Different Temperatures\n",
    "\n",
    "In this section, we’ll generate multiple music samples using different `temperature` settings.  \n",
    "The `temperature` parameter controls the randomness of the generator:  \n",
    "- **Lower values** (e.g. 0.5) produce more conservative, “safe” samples  \n",
    "- **Higher values** (e.g. 2.0) produce more diverse—but potentially noisier—outputs"
   ]
  },
  {
   "cell_type": "code",
   "execution_count": 84,
   "metadata": {},
   "outputs": [
    {
     "name": "stdout",
     "output_type": "stream",
     "text": [
      "\n",
      " Generating with temperature 0.5...\n",
      "Generated music logits: (1, 5, 64, 72)\n",
      "\n",
      " Generating with temperature 1.0...\n",
      "Generated music logits: (1, 5, 64, 72)\n",
      "\n",
      " Generating with temperature 1.5...\n",
      "Generated music logits: (1, 5, 64, 72)\n",
      "\n",
      " Generating with temperature 2.0...\n",
      "Generated music logits: (1, 5, 64, 72)\n"
     ]
    }
   ],
   "source": [
    "# Generate multiple versions with different temperatures\n",
    "temperatures = [0.5, 1.0, 1.5, 2.0]\n",
    "batch_results = {}\n",
    "\n",
    "for temp in temperatures:\n",
    "    print(f\"\\n Generating with temperature {temp}...\")\n",
    "    music = generator.generate_music(n_samples=1, temperature=temp)\n",
    "    processed = generator.postprocess_music(music, threshold=0.5)\n",
    "    batch_results[temp] = processed\n"
   ]
  },
  {
   "cell_type": "code",
   "execution_count": 85,
   "metadata": {},
   "outputs": [
    {
     "data": {
      "image/png": "[encoded data removed]",
      "text/plain": [
       "<Figure size 2000x1200 with 4 Axes>"
      ]
     },
     "metadata": {},
     "output_type": "display_data"
    },
    {
     "name": "stdout",
     "output_type": "stream",
     "text": [
      "\n",
      " Script execution complete!\n",
      "\n",
      " Summary:\n",
      "   - Generated 1 music samples\n",
      "   - Saved files to: generated_music\n",
      "   - Model loaded:  Successfully\n",
      "   - Visualizations created:  Yes\n",
      "\n",
      " You can now:\n",
      "   - Modify parameters for interactive generation\n",
      "   - Experiment with different temperatures and thresholds\n",
      "   - Visualize different tracks and samples\n",
      "   - Load and play the generated MIDI files\n"
     ]
    }
   ],
   "source": [
    "# Visualize comparison\n",
    "fig, axes = plt.subplots(2, 2, figsize=(20, 12))\n",
    "axes = axes.flatten()\n",
    "\n",
    "for i, temp in enumerate(temperatures):\n",
    "    pianoroll = generator.music_to_pianoroll(batch_results[temp], track_idx=1)\n",
    "    \n",
    "    im = axes[i].imshow(pianoroll.T, aspect='auto', origin='lower', \n",
    "                       cmap='Blues', interpolation='nearest')\n",
    "    axes[i].set_title(f'Temperature = {temp}', fontsize=14, fontweight='bold')\n",
    "    axes[i].set_xlabel('Time Steps')\n",
    "    axes[i].set_ylabel('MIDI Pitch')\n",
    "\n",
    "plt.tight_layout()\n",
    "plt.show()\n",
    "\n",
    "print(\"\\n Script execution complete!\")\n",
    "print(\"\\n Summary:\")\n",
    "print(f\"   - Generated {N_SAMPLES} music samples\")\n",
    "print(f\"   - Saved files to: {OUTPUT_DIR}\")\n",
    "print(f\"   - Model loaded: {' Successfully' if model_loaded else ' Failed'}\")\n",
    "print(f\"   - Visualizations created:  Yes\")\n",
    "print(\"\\n You can now:\")\n",
    "print(\"   - Modify parameters for interactive generation\")\n",
    "print(\"   - Experiment with different temperatures and thresholds\")\n",
    "print(\"   - Visualize different tracks and samples\")\n",
    "print(\"   - Load and play the generated MIDI files\")"
   ]
  },
  {
   "cell_type": "markdown",
   "metadata": {},
   "source": [
    "## 📚 References\n",
    "\n",
    "- [MouseGAN paper](https://arxiv.org/abs/1709.06298)  \n",
    "- [Original implementation](https://github.com/developsomethingcool/DL_music_MouseGAN)  \n",
    "- [ffmpeg docs](https://ffmpeg.org/)  "
   ]
  },
  {
   "cell_type": "markdown",
   "metadata": {},
   "source": []
  }
 ],
 "metadata": {
  "kernelspec": {
   "display_name": "dlmusic",
   "language": "python",
   "name": "python3"
  },
  "language_info": {
   "codemirror_mode": {
    "name": "ipython",
    "version": 3
   },
   "file_extension": ".py",
   "mimetype": "text/x-python",
   "name": "python",
   "nbconvert_exporter": "python",
   "pygments_lexer": "ipython3",
   "version": "3.10.11"
  }
 },
 "nbformat": 4,
 "nbformat_minor": 2
}
